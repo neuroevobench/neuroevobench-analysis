{
 "cells": [
  {
   "cell_type": "code",
   "execution_count": 2,
   "metadata": {},
   "outputs": [
    {
     "name": "stdout",
     "output_type": "stream",
     "text": [
      "The autoreload extension is already loaded. To reload it, use:\n",
      "  %reload_ext autoreload\n"
     ]
    }
   ],
   "source": [
    "%matplotlib inline\n",
    "%load_ext autoreload\n",
    "%autoreload 2\n",
    "%config InlineBackend.figure_format = 'retina'\n",
    "\n",
    "import os\n",
    "import numpy as np\n",
    "import matplotlib.pyplot as plt\n",
    "from mle_toolbox import load_result_logs, visualize\n",
    "from mle_hyperopt.utils import load_yaml"
   ]
  },
  {
   "attachments": {},
   "cell_type": "markdown",
   "metadata": {},
   "source": [
    "### Extract best configs per task/strategy"
   ]
  },
  {
   "cell_type": "code",
   "execution_count": 11,
   "metadata": {},
   "outputs": [],
   "source": [
    "def get_best_config_per_task(results_dir):\n",
    "    meta_log, hyper_log = load_result_logs(results_dir)\n",
    "    strategy_names = hyper_log.strategy_name\n",
    "\n",
    "    for s_name in strategy_names:\n",
    "        run_id = hyper_log.filter({\"strategy_name\": s_name}).run_id.iloc[0]\n",
    "\n",
    "        # Get all yaml files in the experiment directory\n",
    "        for file in os.listdir(os.path.join(\n",
    "                \"../\", meta_log[run_id].meta.experiment_dir\n",
    "            )):\n",
    "            if file.endswith(\".yaml\"):\n",
    "                # Check if \"search\" is in file name\n",
    "                if \"best_config\" in file:\n",
    "                    search_fname = os.path.join(\n",
    "                        \"../\", meta_log[run_id].meta.experiment_dir, file\n",
    "                    )\n",
    "\n",
    "        # Load meta and hyper log - extract best parameters\n",
    "        loaded_params = load_yaml(search_fname, keys_to_list=False)\n",
    "        print(s_name, loaded_params[\"performance\"], loaded_params[\"config\"])\n",
    "\n",
    "    # TODO(RobertTLange): Write best settings into config directory?"
   ]
  },
  {
   "cell_type": "code",
   "execution_count": 12,
   "metadata": {},
   "outputs": [
    {
     "name": "stdout",
     "output_type": "stream",
     "text": [
      "OpenES 0.8623999953269958 {'fitness_trafo': 'raw', 'lrate_decay': 0.999, 'lrate_init': 0.01, 'opt_name': 'adam', 'sigma_decay': 0.999, 'sigma_init': 0.043}\n",
      "PGPE 0.8513999581336975 {'fitness_trafo': 'z_score', 'lrate_decay': 0.999, 'lrate_init': 0.013, 'opt_name': 'adam', 'sigma_decay': 0.999, 'sigma_init': 0.058}\n",
      "ARS 0.8486999869346619 {'fitness_trafo': 'z_score', 'lrate_decay': 0.999, 'lrate_init': 0.018, 'opt_name': 'sgd', 'sigma_decay': 0.999, 'sigma_init': 0.058}\n",
      "SNES 0.8549000024795532 {'sigma_init': 0.049, 'temperature': 0.0}\n",
      "Sep_CMA_ES 0.8456999659538269 {'elite_ratio': 0.4, 'sigma_init': 0.016}\n",
      "LES 0.8359000086784363 {'sigma_init': 0.062}\n",
      "SimpleGA 0.711899995803833 {'elite_ratio': 0.3, 'sigma_init': 0.008}\n",
      "SAMR_GA 0.8241999745368958 {'elite_ratio': 0.2, 'sigma_init': 0.029, 'sigma_meta': 2.474}\n",
      "GESMR_GA 0.8240000009536743 {'elite_ratio': 0.1, 'sigma_init': 0.033, 'sigma_meta': 1.526}\n",
      "LGA 0.7471999526023865 {'elite_ratio': 0.4, 'sigma_init': 0.01}\n"
     ]
    }
   ],
   "source": [
    "results_dir = \"../experiments/fmnist_classify/search\"\n",
    "get_best_config_per_task(results_dir)"
   ]
  },
  {
   "cell_type": "code",
   "execution_count": null,
   "metadata": {},
   "outputs": [],
   "source": []
  }
 ],
 "metadata": {
  "interpreter": {
   "hash": "0731916ac994366e3ec5c9b7f6ac08b5be0d09771460287bbfce9f645047acc4"
  },
  "kernelspec": {
   "display_name": "mle-toolbox",
   "language": "python",
   "name": "mle-toolbox"
  },
  "language_info": {
   "codemirror_mode": {
    "name": "ipython",
    "version": 3
   },
   "file_extension": ".py",
   "mimetype": "text/x-python",
   "name": "python",
   "nbconvert_exporter": "python",
   "pygments_lexer": "ipython3",
   "version": "3.9.7"
  }
 },
 "nbformat": 4,
 "nbformat_minor": 4
}
