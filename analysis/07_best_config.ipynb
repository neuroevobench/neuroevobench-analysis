{
 "cells": [
  {
   "cell_type": "code",
   "execution_count": 1,
   "metadata": {},
   "outputs": [
    {
     "name": "stderr",
     "output_type": "stream",
     "text": [
      "<frozen importlib._bootstrap>:228: RuntimeWarning: scipy._lib.messagestream.MessageStream size changed, may indicate binary incompatibility. Expected 56 from C header, got 64 from PyObject\n"
     ]
    }
   ],
   "source": [
    "%matplotlib inline\n",
    "%load_ext autoreload\n",
    "%autoreload 2\n",
    "%config InlineBackend.figure_format = 'retina'\n",
    "\n",
    "import os\n",
    "import numpy as np\n",
    "import matplotlib.pyplot as plt\n",
    "from mle_toolbox import load_result_logs, visualize\n",
    "from mle_hyperopt.utils import load_yaml"
   ]
  },
  {
   "attachments": {},
   "cell_type": "markdown",
   "metadata": {},
   "source": [
    "### Extract best configs per task/strategy from search"
   ]
  },
  {
   "cell_type": "code",
   "execution_count": 7,
   "metadata": {},
   "outputs": [],
   "source": [
    "def get_best_config_per_task(results_dir):\n",
    "    meta_log, hyper_log = load_result_logs(results_dir)\n",
    "    strategy_names = hyper_log.strategy_name\n",
    "\n",
    "    all_configs = {}\n",
    "    for s_name in strategy_names:\n",
    "        run_id = hyper_log.filter({\"strategy_name\": s_name}).run_id.iloc[0]\n",
    "\n",
    "        # Get all yaml files in the experiment directory\n",
    "        for file in os.listdir(os.path.join(\n",
    "                \"../\", meta_log[run_id].meta.experiment_dir\n",
    "            )):\n",
    "            if file.endswith(\".yaml\"):\n",
    "                # Check if \"search\" is in file name\n",
    "                if \"best_config\" in file:\n",
    "                    search_fname = os.path.join(\n",
    "                        \"../\", meta_log[run_id].meta.experiment_dir, file\n",
    "                    )\n",
    "\n",
    "        # Load meta and hyper log - extract best parameters\n",
    "        loaded_params = load_yaml(search_fname, keys_to_list=False)\n",
    "        print(s_name, loaded_params[\"performance\"], loaded_params[\"config\"])\n",
    "        all_configs[s_name] = loaded_params[\"config\"]\n",
    "    return all_configs"
   ]
  },
  {
   "attachments": {},
   "cell_type": "markdown",
   "metadata": {},
   "source": [
    "### Store tuned configurations in separate files"
   ]
  },
  {
   "cell_type": "code",
   "execution_count": 10,
   "metadata": {},
   "outputs": [
    {
     "name": "stdout",
     "output_type": "stream",
     "text": [
      "../experiments/fmnist_classify/search/\n"
     ]
    },
    {
     "name": "stderr",
     "output_type": "stream",
     "text": [
      "/Users/rob/anaconda3/envs/mle-toolbox/lib/python3.9/site-packages/numpy/lib/function_base.py:4650: UserWarning: Warning: 'partition' will ignore the 'mask' of the MaskedArray.\n",
      "  arr.partition(\n"
     ]
    },
    {
     "name": "stdout",
     "output_type": "stream",
     "text": [
      "OpenES 0.8685999512672424 {'fitness_trafo': 'centered_rank', 'lrate_decay': 0.999, 'lrate_init': 0.008, 'opt_name': 'adam', 'sigma_decay': 0.999, 'sigma_init': 0.098}\n",
      "PGPE 0.864799976348877 {'fitness_trafo': 'centered_rank', 'lrate_decay': 0.999, 'lrate_init': 0.007, 'opt_name': 'adam', 'sigma_decay': 0.999, 'sigma_init': 0.075}\n",
      "ARS 0.8557999730110168 {'fitness_trafo': 'z_score', 'lrate_decay': 0.999, 'lrate_init': 0.007, 'opt_name': 'adam', 'sigma_decay': 0.999, 'sigma_init': 0.034}\n",
      "SNES 0.85589998960495 {'sigma_init': 0.03, 'temperature': 0.0}\n",
      "Sep_CMA_ES 0.8500999808311462 {'elite_ratio': 0.5, 'sigma_init': 0.033}\n",
      "LES 0.8324999809265137 {'sigma_init': 0.066}\n",
      "SimpleGA 0.6687999963760376 {'elite_ratio': 0.5, 'sigma_init': 0.012}\n",
      "SAMR_GA 0.8312000036239624 {'elite_ratio': 0.1, 'sigma_init': 0.107, 'sigma_meta': 2.066}\n",
      "GESMR_GA 0.8204999566078186 {'elite_ratio': 0.2, 'sigma_init': 0.106, 'sigma_meta': 1.553}\n",
      "LGA 0.7195000052452087 {'elite_ratio': 0.5, 'sigma_init': 0.013}\n",
      "==============================\n",
      "../experiments/mnist_generate/search/\n"
     ]
    },
    {
     "name": "stderr",
     "output_type": "stream",
     "text": [
      "/Users/rob/anaconda3/envs/mle-toolbox/lib/python3.9/site-packages/numpy/lib/function_base.py:4486: RuntimeWarning: invalid value encountered in subtract\n",
      "  diff_b_a = subtract(b, a)\n"
     ]
    },
    {
     "name": "stdout",
     "output_type": "stream",
     "text": [
      "OpenES -171.6922607421875 {'fitness_trafo': 'centered_rank', 'lrate_decay': 0.999, 'lrate_init': 0.009, 'opt_name': 'adam', 'sigma_decay': 0.999, 'sigma_init': 0.047}\n",
      "PGPE -170.19012451171875 {'fitness_trafo': 'centered_rank', 'lrate_decay': 0.999, 'lrate_init': 0.007, 'opt_name': 'adam', 'sigma_decay': 0.999, 'sigma_init': 0.075}\n",
      "ARS -198.39352416992188 {'fitness_trafo': 'raw', 'lrate_decay': 0.999, 'lrate_init': 0.017, 'opt_name': 'adam', 'sigma_decay': 0.999, 'sigma_init': 0.018}\n",
      "SNES -158.73040771484375 {'sigma_init': 0.021, 'temperature': 10.0}\n",
      "Sep_CMA_ES -171.13223266601562 {'elite_ratio': 0.5, 'sigma_init': 0.023}\n",
      "LES -200.26620483398438 {'sigma_init': 0.02}\n",
      "SimpleGA -314.0676574707031 {'elite_ratio': 0.5, 'sigma_init': 0.012}\n",
      "SAMR_GA -207.6376495361328 {'elite_ratio': 0.0, 'sigma_init': 0.147, 'sigma_meta': 1.937}\n",
      "GESMR_GA -208.1159210205078 {'elite_ratio': 0.0, 'sigma_init': 0.089, 'sigma_meta': 1.482}\n",
      "LGA -331.4110412597656 {'elite_ratio': 0.2, 'sigma_init': 0.017}\n",
      "==============================\n",
      "../experiments/ant/search/\n",
      "OpenES 4060.414306640625 {'fitness_trafo': 'centered_rank', 'lrate_decay': 0.999, 'lrate_init': 0.008, 'opt_name': 'adam', 'sigma_decay': 0.999, 'sigma_init': 0.079}\n",
      "PGPE 3843.369140625 {'fitness_trafo': 'centered_rank', 'lrate_decay': 0.999, 'lrate_init': 0.01, 'opt_name': 'adam', 'sigma_decay': 0.999, 'sigma_init': 0.05}\n",
      "ARS 3427.9609375 {'fitness_trafo': 'centered_rank', 'lrate_decay': 0.999, 'lrate_init': 0.006, 'opt_name': 'adam', 'sigma_decay': 0.999, 'sigma_init': 0.022}\n",
      "SNES 3504.6416015625 {'sigma_init': 0.024, 'temperature': 10.0}\n",
      "Sep_CMA_ES 3492.9013671875 {'elite_ratio': 0.4, 'sigma_init': 0.06}\n",
      "LES 3752.779296875 {'sigma_init': 0.075}\n",
      "SimpleGA 1595.157958984375 {'elite_ratio': 0.5, 'sigma_init': 0.012}\n",
      "SAMR_GA 1566.3863525390625 {'elite_ratio': 0.3, 'sigma_init': 0.145, 'sigma_meta': 1.498}\n",
      "GESMR_GA 1674.6748046875 {'elite_ratio': 0.3, 'sigma_init': 0.066, 'sigma_meta': 2.106}\n",
      "LGA -9.81304931640625 {'elite_ratio': 0.5, 'sigma_init': 0.085}\n",
      "==============================\n",
      "../experiments/fetch/search/\n",
      "OpenES 6.2640533447265625 {'fitness_trafo': 'centered_rank', 'lrate_decay': 0.999, 'lrate_init': 0.009, 'opt_name': 'adam', 'sigma_decay': 0.999, 'sigma_init': 0.101}\n",
      "PGPE 5.643159866333008 {'fitness_trafo': 'centered_rank', 'lrate_decay': 0.999, 'lrate_init': 0.009, 'opt_name': 'adam', 'sigma_decay': 0.999, 'sigma_init': 0.125}\n",
      "ARS 5.545472145080566 {'fitness_trafo': 'centered_rank', 'lrate_decay': 0.999, 'lrate_init': 0.009, 'opt_name': 'adam', 'sigma_decay': 0.999, 'sigma_init': 0.136}\n",
      "SNES 6.902565956115723 {'sigma_init': 0.065, 'temperature': 0.0}\n",
      "Sep_CMA_ES 6.705387115478516 {'elite_ratio': 0.4, 'sigma_init': 0.039}\n",
      "LES 6.401552200317383 {'sigma_init': 0.087}\n",
      "SimpleGA 2.6369268894195557 {'elite_ratio': 0.2, 'sigma_init': 0.077}\n",
      "SAMR_GA 3.4476375579833984 {'elite_ratio': 0.4, 'sigma_init': 0.09, 'sigma_meta': 1.038}\n",
      "GESMR_GA 3.4530484676361084 {'elite_ratio': 0.4, 'sigma_init': 0.09, 'sigma_meta': 1.038}\n",
      "LGA 3.8719425201416016 {'elite_ratio': 0.4, 'sigma_init': 0.052}\n",
      "==============================\n",
      "../experiments/addition/search/\n",
      "OpenES -0.007767930626869202 {'fitness_trafo': 'centered_rank', 'lrate_decay': 0.999, 'lrate_init': 0.035, 'opt_name': 'adam', 'sigma_decay': 0.999, 'sigma_init': 0.056}\n",
      "PGPE -0.015044848434627056 {'fitness_trafo': 'centered_rank', 'lrate_decay': 0.999, 'lrate_init': 0.037, 'opt_name': 'adam', 'sigma_decay': 0.999, 'sigma_init': 0.052}\n",
      "ARS -0.00801372341811657 {'fitness_trafo': 'z_score', 'lrate_decay': 0.999, 'lrate_init': 0.039, 'opt_name': 'adam', 'sigma_decay': 0.999, 'sigma_init': 0.071}\n",
      "SNES -0.008583522401750088 {'sigma_init': 0.119, 'temperature': 30.0}\n",
      "Sep_CMA_ES -0.02921871840953827 {'elite_ratio': 0.1, 'sigma_init': 0.147}\n",
      "LES -0.026414714753627777 {'sigma_init': 0.147}\n",
      "SimpleGA -0.07803790271282196 {'elite_ratio': 0.3, 'sigma_init': 0.148}\n",
      "SAMR_GA -0.01811978407204151 {'elite_ratio': 0.0, 'sigma_init': 0.147, 'sigma_meta': 2.598}\n",
      "GESMR_GA -0.009564214386045933 {'elite_ratio': 0.0, 'sigma_init': 0.022, 'sigma_meta': 1.04}\n",
      "LGA -0.05459190532565117 {'elite_ratio': 0.5, 'sigma_init': 0.104}\n",
      "==============================\n",
      "../experiments/smnist/search/\n",
      "OpenES 0.6451999545097351 {'fitness_trafo': 'centered_rank', 'lrate_decay': 0.999, 'lrate_init': 0.036, 'opt_name': 'adam', 'sigma_decay': 0.999, 'sigma_init': 0.142}\n",
      "PGPE 0.6301000118255615 {'fitness_trafo': 'centered_rank', 'lrate_decay': 0.999, 'lrate_init': 0.037, 'opt_name': 'adam', 'sigma_decay': 0.999, 'sigma_init': 0.054}\n",
      "ARS 0.6757000088691711 {'fitness_trafo': 'centered_rank', 'lrate_decay': 0.999, 'lrate_init': 0.034, 'opt_name': 'adam', 'sigma_decay': 0.999, 'sigma_init': 0.144}\n",
      "SNES 0.7037000060081482 {'sigma_init': 0.129, 'temperature': 20.0}\n",
      "Sep_CMA_ES 0.6952999830245972 {'elite_ratio': 0.2, 'sigma_init': 0.109}\n",
      "LES 0.5620999932289124 {'sigma_init': 0.128}\n",
      "SimpleGA 0.35979998111724854 {'elite_ratio': 0.1, 'sigma_init': 0.127}\n",
      "SAMR_GA 0.47919997572898865 {'elite_ratio': 0.4, 'sigma_init': 0.126, 'sigma_meta': 1.009}\n",
      "GESMR_GA 0.49639999866485596 {'elite_ratio': 0.1, 'sigma_init': 0.139, 'sigma_meta': 1.166}\n",
      "LGA 0.4640999734401703 {'elite_ratio': 0.5, 'sigma_init': 0.104}\n",
      "==============================\n",
      "../experiments/asterix/search/\n",
      "OpenES 13.609375 {'fitness_trafo': 'centered_rank', 'lrate_decay': 0.999, 'lrate_init': 0.041, 'opt_name': 'adam', 'sigma_decay': 0.999, 'sigma_init': 0.147}\n",
      "PGPE 12.7734375 {'fitness_trafo': 'centered_rank', 'lrate_decay': 0.999, 'lrate_init': 0.016, 'opt_name': 'adam', 'sigma_decay': 0.999, 'sigma_init': 0.101}\n",
      "ARS 9.9453125 {'fitness_trafo': 'centered_rank', 'lrate_decay': 0.999, 'lrate_init': 0.009, 'opt_name': 'adam', 'sigma_decay': 0.999, 'sigma_init': 0.136}\n",
      "SNES 20.1796875 {'sigma_init': 0.127, 'temperature': 0.0}\n",
      "Sep_CMA_ES 20.09375 {'elite_ratio': 0.4, 'sigma_init': 0.105}\n",
      "LES 17.28125 {'sigma_init': 0.147}\n",
      "SimpleGA 0.7421875 {'elite_ratio': 0.1, 'sigma_init': 0.101}\n",
      "SAMR_GA 5.34375 {'elite_ratio': 0.4, 'sigma_init': 0.126, 'sigma_meta': 1.009}\n",
      "GESMR_GA 5.28125 {'elite_ratio': 0.4, 'sigma_init': 0.126, 'sigma_meta': 1.009}\n",
      "LGA 2.34375 {'elite_ratio': 0.4, 'sigma_init': 0.101}\n",
      "==============================\n",
      "../experiments/breakout/search/\n",
      "OpenES 13.6640625 {'fitness_trafo': 'centered_rank', 'lrate_decay': 0.999, 'lrate_init': 0.022, 'opt_name': 'adam', 'sigma_decay': 0.999, 'sigma_init': 0.038}\n",
      "PGPE 1.4765625 {'fitness_trafo': 'centered_rank', 'lrate_decay': 0.999, 'lrate_init': 0.011, 'opt_name': 'adam', 'sigma_decay': 0.999, 'sigma_init': 0.039}\n",
      "ARS 13.8125 {'fitness_trafo': 'raw', 'lrate_decay': 0.999, 'lrate_init': 0.036, 'opt_name': 'adam', 'sigma_decay': 0.999, 'sigma_init': 0.019}\n",
      "SNES 29.5703125 {'sigma_init': 0.119, 'temperature': 30.0}\n",
      "Sep_CMA_ES 29.953125 {'elite_ratio': 0.1, 'sigma_init': 0.094}\n",
      "LES 39.9921875 {'sigma_init': 0.119}\n",
      "SimpleGA 20.4765625 {'elite_ratio': 0.4, 'sigma_init': 0.033}\n",
      "SAMR_GA 18.8515625 {'elite_ratio': 0.4, 'sigma_init': 0.126, 'sigma_meta': 1.009}\n",
      "GESMR_GA 22.0 {'elite_ratio': 0.1, 'sigma_init': 0.139, 'sigma_meta': 1.166}\n",
      "LGA 21.5234375 {'elite_ratio': 0.4, 'sigma_init': 0.096}\n",
      "==============================\n",
      "../experiments/cifar/search/\n",
      "OpenES 0.43529999256134033 {'fitness_trafo': 'centered_rank', 'lrate_decay': 0.999, 'lrate_init': 0.034, 'opt_name': 'adam', 'sigma_decay': 0.999, 'sigma_init': 0.027}\n",
      "PGPE 0.439300000667572 {'fitness_trafo': 'centered_rank', 'lrate_decay': 0.999, 'lrate_init': 0.034, 'opt_name': 'adam', 'sigma_decay': 0.999, 'sigma_init': 0.069}\n",
      "ARS 0.41290000081062317 {'fitness_trafo': 'raw', 'lrate_decay': 0.999, 'lrate_init': 0.031, 'opt_name': 'adam', 'sigma_decay': 0.999, 'sigma_init': 0.069}\n",
      "SNES 0.42339998483657837 {'sigma_init': 0.127, 'temperature': 0.0}\n",
      "Sep_CMA_ES 0.41449999809265137 {'elite_ratio': 0.3, 'sigma_init': 0.068}\n",
      "LES 0.36469998955726624 {'sigma_init': 0.142}\n",
      "SimpleGA 0.2232999950647354 {'elite_ratio': 0.2, 'sigma_init': 0.074}\n",
      "SAMR_GA 0.33409997820854187 {'elite_ratio': 0.1, 'sigma_init': 0.146, 'sigma_meta': 2.306}\n",
      "GESMR_GA 0.3375999927520752 {'elite_ratio': 0.1, 'sigma_init': 0.041, 'sigma_meta': 2.613}\n",
      "LGA 0.29339998960494995 {'elite_ratio': 0.3, 'sigma_init': 0.1}\n",
      "==============================\n"
     ]
    }
   ],
   "source": [
    "from mle_hyperopt.utils import save_yaml\n",
    "\n",
    "result_dirs = [\n",
    "    \"../experiments/fmnist_classify/search/\",\n",
    "    \"../experiments/mnist_generate/search/\",\n",
    "    \"../experiments/ant/search/\",\n",
    "    \"../experiments/fetch/search/\",\n",
    "    \"../experiments/addition/search/\",\n",
    "    \"../experiments/smnist/search/\",\n",
    "    \"../experiments/asterix/search/\",\n",
    "    \"../experiments/breakout/search/\",\n",
    "    \"../experiments/cifar/search/\"\n",
    "]\n",
    "\n",
    "for d in result_dirs:\n",
    "    print(d)\n",
    "    task_configs = get_best_config_per_task(d)\n",
    "    problem = d.split(\"/\")[2]\n",
    "    for k in task_configs.keys():\n",
    "        os.makedirs(f\"tuned/{problem}\", exist_ok=True)\n",
    "        save_yaml(task_configs[k], f\"tuned/{problem}/{k}.yaml\")\n",
    "    print(30 * \"=\")"
   ]
  },
  {
   "attachments": {},
   "cell_type": "markdown",
   "metadata": {},
   "source": []
  }
 ],
 "metadata": {
  "kernelspec": {
   "display_name": "mle-toolbox",
   "language": "python",
   "name": "python3"
  },
  "language_info": {
   "codemirror_mode": {
    "name": "ipython",
    "version": 3
   },
   "file_extension": ".py",
   "mimetype": "text/x-python",
   "name": "python",
   "nbconvert_exporter": "python",
   "pygments_lexer": "ipython3",
   "version": "3.9.7"
  }
 },
 "nbformat": 4,
 "nbformat_minor": 4
}
